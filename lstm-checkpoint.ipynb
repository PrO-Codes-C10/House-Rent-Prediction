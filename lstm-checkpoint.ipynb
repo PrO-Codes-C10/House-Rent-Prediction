{
 "cells": [
  {
   "cell_type": "code",
   "execution_count": 98,
   "id": "aa962603",
   "metadata": {},
   "outputs": [],
   "source": [
    "import pandas as pd\n",
    "import numpy as np\n",
    "from sklearn.preprocessing import MinMaxScaler\n",
    "from sklearn.model_selection import train_test_split\n",
    "from sklearn.metrics import mean_squared_error\n",
    "from tensorflow.keras.models import Sequential\n",
    "from tensorflow.keras.layers import Dense"
   ]
  },
  {
   "cell_type": "code",
   "execution_count": 99,
   "id": "0eec351f",
   "metadata": {},
   "outputs": [],
   "source": [
    "data = pd.read_excel(\"Dataset.xlsx\")"
   ]
  },
  {
   "cell_type": "code",
   "execution_count": 100,
   "id": "3a2833bb",
   "metadata": {},
   "outputs": [
    {
     "data": {
      "text/plain": [
       "(10683, 11)"
      ]
     },
     "execution_count": 100,
     "metadata": {},
     "output_type": "execute_result"
    }
   ],
   "source": [
    "data.shape"
   ]
  },
  {
   "cell_type": "code",
   "execution_count": 101,
   "id": "c7a9cb8d",
   "metadata": {},
   "outputs": [
    {
     "name": "stdout",
     "output_type": "stream",
     "text": [
      "       Price\n",
      "0       3897\n",
      "1       7662\n",
      "2      13882\n",
      "3       6218\n",
      "4      13302\n",
      "...      ...\n",
      "10678   4107\n",
      "10679   4145\n",
      "10680   7229\n",
      "10681  12648\n",
      "10682  11753\n",
      "\n",
      "[10683 rows x 1 columns]\n"
     ]
    }
   ],
   "source": [
    "# split into input (X) and output (y) variables\n",
    "price = data['Price']\n",
    "price = pd.DataFrame(price)\n",
    "print(price)"
   ]
  },
  {
   "cell_type": "code",
   "execution_count": 102,
   "id": "ca44bed6",
   "metadata": {},
   "outputs": [],
   "source": [
    "# # Feature scaling using NORMALIZATION\n",
    "\n",
    "# from sklearn.preprocessing import MinMaxScaler\n",
    "# sc = MinMaxScaler(feature_range = (0.9,1))\n",
    "# scaled_data = sc.fit_transform(price)\n",
    "# print(scaled_data)"
   ]
  },
  {
   "cell_type": "code",
   "execution_count": 103,
   "id": "8fafc51b",
   "metadata": {},
   "outputs": [],
   "source": [
    "# scaled_data.shape"
   ]
  },
  {
   "cell_type": "code",
   "execution_count": 104,
   "id": "e0b2c808",
   "metadata": {},
   "outputs": [],
   "source": [
    "### LSTM are sensitive to the scale of the data. so we apply MinMax scaler\n",
    "from sklearn.preprocessing import MinMaxScaler\n",
    "sc = MinMaxScaler(feature_range=(0.9,1))\n",
    "scaled_data = sc.fit_transform(np.array(price).reshape(-1,1))"
   ]
  },
  {
   "cell_type": "code",
   "execution_count": 105,
   "id": "7cd05f3f",
   "metadata": {},
   "outputs": [],
   "source": [
    "# # Creating a data structure with 7 timesteps and 1 output\n",
    "X = []\n",
    "y = []\n",
    "for i in range(7,10682):\n",
    "    X.append(scaled_data[i-7:i,0])\n",
    "    y.append(scaled_data[i,0])\n",
    "    \n",
    "\n",
    "X,y = np.array(X),np.array(y)"
   ]
  },
  {
   "cell_type": "code",
   "execution_count": 106,
   "id": "29a79ec8",
   "metadata": {},
   "outputs": [
    {
     "data": {
      "text/plain": [
       "(10675, 7)"
      ]
     },
     "execution_count": 106,
     "metadata": {},
     "output_type": "execute_result"
    }
   ],
   "source": [
    "X.shape"
   ]
  },
  {
   "cell_type": "code",
   "execution_count": 107,
   "id": "23a263c9",
   "metadata": {},
   "outputs": [
    {
     "data": {
      "text/plain": [
       "(10675,)"
      ]
     },
     "execution_count": 107,
     "metadata": {},
     "output_type": "execute_result"
    }
   ],
   "source": [
    "y.shape"
   ]
  },
  {
   "cell_type": "code",
   "execution_count": 108,
   "id": "f123d606",
   "metadata": {},
   "outputs": [],
   "source": [
    "# split data into train and test sets\n",
    "X_train, X_test, y_train, y_test = train_test_split(X, y, test_size=0.30, random_state=1)"
   ]
  },
  {
   "cell_type": "code",
   "execution_count": 109,
   "id": "49d9e91d",
   "metadata": {},
   "outputs": [
    {
     "name": "stdout",
     "output_type": "stream",
     "text": [
      "(7472, 7)\n",
      "(7472,)\n"
     ]
    },
    {
     "data": {
      "text/plain": [
       "(None, None)"
      ]
     },
     "execution_count": 109,
     "metadata": {},
     "output_type": "execute_result"
    }
   ],
   "source": [
    "print(X_train.shape), print(y_train.shape)"
   ]
  },
  {
   "cell_type": "code",
   "execution_count": 110,
   "id": "9b57b3ae",
   "metadata": {},
   "outputs": [
    {
     "name": "stdout",
     "output_type": "stream",
     "text": [
      "(3203, 7)\n",
      "(3203,)\n"
     ]
    },
    {
     "data": {
      "text/plain": [
       "(None, None)"
      ]
     },
     "execution_count": 110,
     "metadata": {},
     "output_type": "execute_result"
    }
   ],
   "source": [
    "print(X_test.shape), print(y_test.shape)"
   ]
  },
  {
   "cell_type": "code",
   "execution_count": 111,
   "id": "f4026e75",
   "metadata": {},
   "outputs": [
    {
     "data": {
      "text/plain": [
       "((7472, 7, 1), (3203, 7, 1))"
      ]
     },
     "execution_count": 111,
     "metadata": {},
     "output_type": "execute_result"
    }
   ],
   "source": [
    "#Before feeding into lstm we must convert dataset into 3d \n",
    "# reshape input to be [samples, time steps, features] which is required for LSTM\n",
    "X_train =X_train.reshape(X_train.shape[0],X_train.shape[1] , 1)\n",
    "X_test = X_test.reshape(X_test.shape[0],X_test.shape[1] , 1)\n",
    "\n",
    "(X_train.shape, X_test.shape)"
   ]
  },
  {
   "cell_type": "code",
   "execution_count": 112,
   "id": "aa77675a",
   "metadata": {},
   "outputs": [],
   "source": [
    "#Model Creation \n",
    "from tensorflow.keras.models import Sequential\n",
    "from tensorflow.keras.layers import Dense\n",
    "from tensorflow.keras.layers import LSTM\n",
    "# Ignore  the warnings\n",
    "import warnings\n",
    "warnings.filterwarnings('always')\n",
    "warnings.filterwarnings('ignore')"
   ]
  },
  {
   "cell_type": "code",
   "execution_count": 113,
   "id": "7cb87a29",
   "metadata": {},
   "outputs": [],
   "source": [
    "model=Sequential()\n",
    "model.add(LSTM(50,return_sequences=True, input_shape=(7472,1)))\n",
    "model.add(LSTM(50,return_sequences=True))\n",
    "model.add(LSTM(50))\n",
    "model.add(Dense(1))\n",
    "\n",
    "model.compile(loss='mean_squared_error',optimizer='adam')"
   ]
  },
  {
   "cell_type": "code",
   "execution_count": 114,
   "id": "bc43a585",
   "metadata": {},
   "outputs": [
    {
     "name": "stdout",
     "output_type": "stream",
     "text": [
      "Model: \"sequential_8\"\n",
      "_________________________________________________________________\n",
      "Layer (type)                 Output Shape              Param #   \n",
      "=================================================================\n",
      "lstm_22 (LSTM)               (None, 7472, 50)          10400     \n",
      "_________________________________________________________________\n",
      "lstm_23 (LSTM)               (None, 7472, 50)          20200     \n",
      "_________________________________________________________________\n",
      "lstm_24 (LSTM)               (None, 50)                20200     \n",
      "_________________________________________________________________\n",
      "dense_7 (Dense)              (None, 1)                 51        \n",
      "=================================================================\n",
      "Total params: 50,851\n",
      "Trainable params: 50,851\n",
      "Non-trainable params: 0\n",
      "_________________________________________________________________\n"
     ]
    }
   ],
   "source": [
    "model.summary()"
   ]
  },
  {
   "cell_type": "code",
   "execution_count": 115,
   "id": "cf383232",
   "metadata": {},
   "outputs": [
    {
     "name": "stdout",
     "output_type": "stream",
     "text": [
      "Epoch 1/20\n",
      "WARNING:tensorflow:Model was constructed with shape (None, 7472, 1) for input KerasTensor(type_spec=TensorSpec(shape=(None, 7472, 1), dtype=tf.float32, name='lstm_22_input'), name='lstm_22_input', description=\"created by layer 'lstm_22_input'\"), but it was called on an input with incompatible shape (None, 7, 1).\n",
      "WARNING:tensorflow:Model was constructed with shape (None, 7472, 1) for input KerasTensor(type_spec=TensorSpec(shape=(None, 7472, 1), dtype=tf.float32, name='lstm_22_input'), name='lstm_22_input', description=\"created by layer 'lstm_22_input'\"), but it was called on an input with incompatible shape (None, 7, 1).\n",
      "229/234 [============================>.] - ETA: 0s - loss: 0.0270WARNING:tensorflow:Model was constructed with shape (None, 7472, 1) for input KerasTensor(type_spec=TensorSpec(shape=(None, 7472, 1), dtype=tf.float32, name='lstm_22_input'), name='lstm_22_input', description=\"created by layer 'lstm_22_input'\"), but it was called on an input with incompatible shape (None, 7, 1).\n",
      "234/234 [==============================] - 11s 17ms/step - loss: 0.0265 - val_loss: 3.9604e-05\n",
      "Epoch 2/20\n",
      "234/234 [==============================] - 3s 11ms/step - loss: 3.7237e-05 - val_loss: 4.1759e-05\n",
      "Epoch 3/20\n",
      "234/234 [==============================] - 3s 11ms/step - loss: 3.8089e-05 - val_loss: 4.7523e-05\n",
      "Epoch 4/20\n",
      "234/234 [==============================] - 3s 11ms/step - loss: 3.9439e-05 - val_loss: 4.6083e-05\n",
      "Epoch 5/20\n",
      "234/234 [==============================] - 3s 11ms/step - loss: 4.0065e-05 - val_loss: 4.3706e-05\n",
      "Epoch 6/20\n",
      "234/234 [==============================] - 3s 11ms/step - loss: 3.8609e-05 - val_loss: 4.0959e-05\n",
      "Epoch 7/20\n",
      "234/234 [==============================] - 3s 11ms/step - loss: 4.2565e-05 - val_loss: 4.2819e-05\n",
      "Epoch 8/20\n",
      "234/234 [==============================] - 3s 12ms/step - loss: 3.9789e-05 - val_loss: 4.4416e-05\n",
      "Epoch 9/20\n",
      "234/234 [==============================] - 3s 11ms/step - loss: 4.0948e-05 - val_loss: 4.0080e-05\n",
      "Epoch 10/20\n",
      "234/234 [==============================] - 3s 11ms/step - loss: 4.1151e-05 - val_loss: 5.0634e-05\n",
      "Epoch 11/20\n",
      "234/234 [==============================] - 3s 11ms/step - loss: 4.5674e-05 - val_loss: 4.8003e-05\n",
      "Epoch 12/20\n",
      "234/234 [==============================] - 3s 11ms/step - loss: 4.5242e-05 - val_loss: 1.1297e-04\n",
      "Epoch 13/20\n",
      "234/234 [==============================] - 3s 12ms/step - loss: 4.4850e-05 - val_loss: 5.5467e-05\n",
      "Epoch 14/20\n",
      "234/234 [==============================] - 3s 12ms/step - loss: 4.7575e-05 - val_loss: 4.9735e-05\n",
      "Epoch 15/20\n",
      "234/234 [==============================] - 3s 11ms/step - loss: 4.7881e-05 - val_loss: 4.6644e-05\n",
      "Epoch 16/20\n",
      "234/234 [==============================] - 3s 11ms/step - loss: 4.9609e-05 - val_loss: 4.2763e-05\n",
      "Epoch 17/20\n",
      "234/234 [==============================] - 3s 12ms/step - loss: 4.6254e-05 - val_loss: 4.0066e-05\n",
      "Epoch 18/20\n",
      "234/234 [==============================] - 3s 11ms/step - loss: 4.7644e-05 - val_loss: 3.9375e-05\n",
      "Epoch 19/20\n",
      "234/234 [==============================] - 3s 11ms/step - loss: 4.6554e-05 - val_loss: 6.1089e-05\n",
      "Epoch 20/20\n",
      "234/234 [==============================] - 3s 11ms/step - loss: 5.1309e-05 - val_loss: 4.6238e-05\n"
     ]
    },
    {
     "data": {
      "text/plain": [
       "<keras.callbacks.History at 0x1da91e472e0>"
      ]
     },
     "execution_count": 115,
     "metadata": {},
     "output_type": "execute_result"
    }
   ],
   "source": [
    "model.fit(X_train,y_train,validation_data=(X_test,y_test),epochs=20)"
   ]
  },
  {
   "cell_type": "code",
   "execution_count": 116,
   "id": "93276c68",
   "metadata": {},
   "outputs": [
    {
     "name": "stdout",
     "output_type": "stream",
     "text": [
      "WARNING:tensorflow:Model was constructed with shape (None, 7472, 1) for input KerasTensor(type_spec=TensorSpec(shape=(None, 7472, 1), dtype=tf.float32, name='lstm_22_input'), name='lstm_22_input', description=\"created by layer 'lstm_22_input'\"), but it was called on an input with incompatible shape (None, 7, 1).\n"
     ]
    }
   ],
   "source": [
    "train_predict=model.predict(X_train)\n",
    "test_predict=model.predict(X_test)"
   ]
  },
  {
   "cell_type": "code",
   "execution_count": 117,
   "id": "d256cd57",
   "metadata": {},
   "outputs": [],
   "source": [
    "# We have scaled it, so we need to reverse scale it to find the o/p\n",
    "train_predict=sc.inverse_transform(train_predict)\n",
    "test_predict=sc.inverse_transform(test_predict)"
   ]
  },
  {
   "cell_type": "code",
   "execution_count": 118,
   "id": "d85769a8",
   "metadata": {},
   "outputs": [
    {
     "data": {
      "text/plain": [
       "11270.729812922164"
      ]
     },
     "execution_count": 118,
     "metadata": {},
     "output_type": "execute_result"
    }
   ],
   "source": [
    "#rmse\n",
    "import math\n",
    "from sklearn.metrics import mean_squared_error\n",
    "math.sqrt(mean_squared_error(y_train,train_predict))"
   ]
  },
  {
   "cell_type": "code",
   "execution_count": 119,
   "id": "868eb7c8",
   "metadata": {},
   "outputs": [
    {
     "data": {
      "text/plain": [
       "11290.438716652925"
      ]
     },
     "execution_count": 119,
     "metadata": {},
     "output_type": "execute_result"
    }
   ],
   "source": [
    "math.sqrt(mean_squared_error(y_test,test_predict))"
   ]
  },
  {
   "cell_type": "code",
   "execution_count": 120,
   "id": "8dae09a1",
   "metadata": {},
   "outputs": [],
   "source": [
    "def rmse(actual, pred):\n",
    "  return np.sqrt(mean_squared_error(actual, pred))"
   ]
  },
  {
   "cell_type": "code",
   "execution_count": 121,
   "id": "e78ec959",
   "metadata": {},
   "outputs": [],
   "source": [
    "def mape(actual, pred): \n",
    "    actual, pred = np.array(actual), np.array(pred)\n",
    "    return np.mean(np.abs((actual - pred) / actual)) * 100"
   ]
  },
  {
   "cell_type": "code",
   "execution_count": 122,
   "id": "0aef8891",
   "metadata": {},
   "outputs": [
    {
     "name": "stdout",
     "output_type": "stream",
     "text": [
      "RMSE: 0.007\n"
     ]
    }
   ],
   "source": [
    "lstm_rmse = rmse(y_test, model.predict(X_test))\n",
    "print('RMSE: %.3f' % lstm_rmse)"
   ]
  },
  {
   "cell_type": "code",
   "execution_count": 123,
   "id": "03ad6855",
   "metadata": {},
   "outputs": [
    {
     "name": "stdout",
     "output_type": "stream",
     "text": [
      "MAPE:  0.5990543033740185\n"
     ]
    }
   ],
   "source": [
    "lstm_mape = mape(y_test,model.predict(X_test))\n",
    "\n",
    "print(\"MAPE: \" , lstm_mape)"
   ]
  },
  {
   "cell_type": "code",
   "execution_count": 124,
   "id": "59e590bd",
   "metadata": {},
   "outputs": [
    {
     "name": "stdout",
     "output_type": "stream",
     "text": [
      "RMSE:  0.006799870858496201\n"
     ]
    }
   ],
   "source": [
    "lstm_rmse = rmse(y_test, model.predict(X_test))\n",
    "print('RMSE: ',lstm_rmse)"
   ]
  },
  {
   "cell_type": "code",
   "execution_count": null,
   "id": "b8b2588e",
   "metadata": {},
   "outputs": [],
   "source": []
  },
  {
   "cell_type": "code",
   "execution_count": null,
   "id": "5b1cde44",
   "metadata": {},
   "outputs": [],
   "source": []
  }
 ],
 "metadata": {
  "kernelspec": {
   "display_name": "Python 3 (ipykernel)",
   "language": "python",
   "name": "python3"
  },
  "language_info": {
   "codemirror_mode": {
    "name": "ipython",
    "version": 3
   },
   "file_extension": ".py",
   "mimetype": "text/x-python",
   "name": "python",
   "nbconvert_exporter": "python",
   "pygments_lexer": "ipython3",
   "version": "3.9.7"
  }
 },
 "nbformat": 4,
 "nbformat_minor": 5
}
